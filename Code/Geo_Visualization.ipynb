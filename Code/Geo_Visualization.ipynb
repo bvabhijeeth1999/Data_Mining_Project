{
 "cells": [
  {
   "cell_type": "markdown",
   "metadata": {},
   "source": [
    "Folium is used to visualize data manipulated in Python binding to the map for choropleth vsualizations."
   ]
  },
  {
   "cell_type": "code",
   "execution_count": 5,
   "metadata": {},
   "outputs": [],
   "source": [
    "import folium\n",
    "import pandas as pd"
   ]
  },
  {
   "cell_type": "markdown",
   "metadata": {},
   "source": [
    "Specifying path for India States geojson data."
   ]
  },
  {
   "cell_type": "code",
   "execution_count": 6,
   "metadata": {},
   "outputs": [],
   "source": [
    "country_geo = './../Data/india-states.json'"
   ]
  },
  {
   "cell_type": "code",
   "execution_count": 7,
   "metadata": {},
   "outputs": [],
   "source": [
    "data = pd.read_csv('./../Data/discrete_data.csv')"
   ]
  },
  {
   "cell_type": "code",
   "execution_count": 8,
   "metadata": {},
   "outputs": [
    {
     "data": {
      "text/html": [
       "<div>\n",
       "<style scoped>\n",
       "    .dataframe tbody tr th:only-of-type {\n",
       "        vertical-align: middle;\n",
       "    }\n",
       "\n",
       "    .dataframe tbody tr th {\n",
       "        vertical-align: top;\n",
       "    }\n",
       "\n",
       "    .dataframe thead th {\n",
       "        text-align: right;\n",
       "    }\n",
       "</style>\n",
       "<table border=\"1\" class=\"dataframe\">\n",
       "  <thead>\n",
       "    <tr style=\"text-align: right;\">\n",
       "      <th></th>\n",
       "      <th>Season</th>\n",
       "      <th>Sector</th>\n",
       "      <th>Category</th>\n",
       "      <th>Crop</th>\n",
       "      <th>QueryType</th>\n",
       "      <th>StateName</th>\n",
       "      <th>DistrictName</th>\n",
       "      <th>BlockName</th>\n",
       "      <th>CreatedOn</th>\n",
       "      <th>Hour of the day</th>\n",
       "      <th>Month</th>\n",
       "    </tr>\n",
       "  </thead>\n",
       "  <tbody>\n",
       "    <tr>\n",
       "      <td>0</td>\n",
       "      <td>0</td>\n",
       "      <td>HORTICULTURE</td>\n",
       "      <td>Fruits</td>\n",
       "      <td>Mango</td>\n",
       "      <td>Nutrient Management</td>\n",
       "      <td>RAJASTHAN</td>\n",
       "      <td>KOTA</td>\n",
       "      <td>SANGOD</td>\n",
       "      <td>2018-12-31 20:54:08.550</td>\n",
       "      <td>20</td>\n",
       "      <td>12</td>\n",
       "    </tr>\n",
       "    <tr>\n",
       "      <td>1</td>\n",
       "      <td>0</td>\n",
       "      <td>AGRICULTURE</td>\n",
       "      <td>0</td>\n",
       "      <td>0</td>\n",
       "      <td>Weather</td>\n",
       "      <td>RAJASTHAN</td>\n",
       "      <td>KOTA</td>\n",
       "      <td>SANGOD</td>\n",
       "      <td>2018-12-31 20:48:22.753</td>\n",
       "      <td>20</td>\n",
       "      <td>12</td>\n",
       "    </tr>\n",
       "    <tr>\n",
       "      <td>2</td>\n",
       "      <td>0</td>\n",
       "      <td>AGRICULTURE</td>\n",
       "      <td>Others</td>\n",
       "      <td>Others</td>\n",
       "      <td>Weather</td>\n",
       "      <td>UTTARAKHAND</td>\n",
       "      <td>HARIDWAR</td>\n",
       "      <td>BAHADRABAD</td>\n",
       "      <td>2018-12-31 20:02:26.907</td>\n",
       "      <td>20</td>\n",
       "      <td>12</td>\n",
       "    </tr>\n",
       "    <tr>\n",
       "      <td>3</td>\n",
       "      <td>0</td>\n",
       "      <td>AGRICULTURE</td>\n",
       "      <td>Cereals</td>\n",
       "      <td>Paddy (Dhan)</td>\n",
       "      <td>\\tPlant Protection\\t</td>\n",
       "      <td>WEST BENGAL</td>\n",
       "      <td>HOOGHLY</td>\n",
       "      <td>ARAMBAGH</td>\n",
       "      <td>2018-12-31 19:54:59.980</td>\n",
       "      <td>19</td>\n",
       "      <td>12</td>\n",
       "    </tr>\n",
       "    <tr>\n",
       "      <td>4</td>\n",
       "      <td>0</td>\n",
       "      <td>AGRICULTURE</td>\n",
       "      <td>Others</td>\n",
       "      <td>Others</td>\n",
       "      <td>Weather</td>\n",
       "      <td>RAJASTHAN</td>\n",
       "      <td>KOTA</td>\n",
       "      <td>SULTANPUR</td>\n",
       "      <td>2018-12-31 19:26:24.730</td>\n",
       "      <td>19</td>\n",
       "      <td>12</td>\n",
       "    </tr>\n",
       "  </tbody>\n",
       "</table>\n",
       "</div>"
      ],
      "text/plain": [
       "  Season        Sector Category          Crop             QueryType  \\\n",
       "0      0  HORTICULTURE   Fruits         Mango   Nutrient Management   \n",
       "1      0   AGRICULTURE        0             0               Weather   \n",
       "2      0   AGRICULTURE   Others        Others               Weather   \n",
       "3      0   AGRICULTURE  Cereals  Paddy (Dhan)  \\tPlant Protection\\t   \n",
       "4      0   AGRICULTURE   Others        Others               Weather   \n",
       "\n",
       "     StateName DistrictName   BlockName                CreatedOn  \\\n",
       "0    RAJASTHAN         KOTA      SANGOD  2018-12-31 20:54:08.550   \n",
       "1    RAJASTHAN         KOTA      SANGOD  2018-12-31 20:48:22.753   \n",
       "2  UTTARAKHAND     HARIDWAR  BAHADRABAD  2018-12-31 20:02:26.907   \n",
       "3  WEST BENGAL      HOOGHLY    ARAMBAGH  2018-12-31 19:54:59.980   \n",
       "4    RAJASTHAN         KOTA   SULTANPUR  2018-12-31 19:26:24.730   \n",
       "\n",
       "   Hour of the day  Month  \n",
       "0               20     12  \n",
       "1               20     12  \n",
       "2               20     12  \n",
       "3               19     12  \n",
       "4               19     12  "
      ]
     },
     "execution_count": 8,
     "metadata": {},
     "output_type": "execute_result"
    }
   ],
   "source": [
    "data.head()"
   ]
  },
  {
   "cell_type": "markdown",
   "metadata": {},
   "source": [
    "Extracting Location only data from the main data and making a dataframe of query counts of individual states for visualization."
   ]
  },
  {
   "cell_type": "code",
   "execution_count": 9,
   "metadata": {},
   "outputs": [],
   "source": [
    "data=data.drop(columns=['Season','Sector','Category','Crop','QueryType','DistrictName','BlockName'])"
   ]
  },
  {
   "cell_type": "code",
   "execution_count": 10,
   "metadata": {},
   "outputs": [],
   "source": [
    "geo_counts=data.StateName.value_counts()"
   ]
  },
  {
   "cell_type": "code",
   "execution_count": 11,
   "metadata": {},
   "outputs": [
    {
     "data": {
      "text/plain": [
       "dtype('int64')"
      ]
     },
     "execution_count": 11,
     "metadata": {},
     "output_type": "execute_result"
    }
   ],
   "source": [
    "geo_counts.dtypes"
   ]
  },
  {
   "cell_type": "code",
   "execution_count": 12,
   "metadata": {},
   "outputs": [],
   "source": [
    "geo_pd=pd.DataFrame(geo_counts)"
   ]
  },
  {
   "cell_type": "code",
   "execution_count": 13,
   "metadata": {},
   "outputs": [],
   "source": [
    "geo_pd=geo_pd.reset_index()"
   ]
  },
  {
   "cell_type": "code",
   "execution_count": 14,
   "metadata": {},
   "outputs": [],
   "source": [
    "geo_pd.columns = ['StateName', 'Count']"
   ]
  },
  {
   "cell_type": "markdown",
   "metadata": {},
   "source": [
    "Capitalizing state name for match with geojson data"
   ]
  },
  {
   "cell_type": "code",
   "execution_count": 15,
   "metadata": {},
   "outputs": [],
   "source": [
    "geo_pd['StateName']=geo_pd['StateName'].str.title()"
   ]
  },
  {
   "cell_type": "code",
   "execution_count": 16,
   "metadata": {},
   "outputs": [
    {
     "data": {
      "text/html": [
       "<div>\n",
       "<style scoped>\n",
       "    .dataframe tbody tr th:only-of-type {\n",
       "        vertical-align: middle;\n",
       "    }\n",
       "\n",
       "    .dataframe tbody tr th {\n",
       "        vertical-align: top;\n",
       "    }\n",
       "\n",
       "    .dataframe thead th {\n",
       "        text-align: right;\n",
       "    }\n",
       "</style>\n",
       "<table border=\"1\" class=\"dataframe\">\n",
       "  <thead>\n",
       "    <tr style=\"text-align: right;\">\n",
       "      <th></th>\n",
       "      <th>StateName</th>\n",
       "      <th>Count</th>\n",
       "    </tr>\n",
       "  </thead>\n",
       "  <tbody>\n",
       "    <tr>\n",
       "      <td>0</td>\n",
       "      <td>Telangana</td>\n",
       "      <td>17258</td>\n",
       "    </tr>\n",
       "    <tr>\n",
       "      <td>1</td>\n",
       "      <td>Rajasthan</td>\n",
       "      <td>8003</td>\n",
       "    </tr>\n",
       "    <tr>\n",
       "      <td>2</td>\n",
       "      <td>Uttar Pradesh</td>\n",
       "      <td>7777</td>\n",
       "    </tr>\n",
       "    <tr>\n",
       "      <td>3</td>\n",
       "      <td>Gujarat</td>\n",
       "      <td>6507</td>\n",
       "    </tr>\n",
       "    <tr>\n",
       "      <td>4</td>\n",
       "      <td>West Bengal</td>\n",
       "      <td>6064</td>\n",
       "    </tr>\n",
       "    <tr>\n",
       "      <td>5</td>\n",
       "      <td>Uttarakhand</td>\n",
       "      <td>4587</td>\n",
       "    </tr>\n",
       "    <tr>\n",
       "      <td>6</td>\n",
       "      <td>Chhattisgarh</td>\n",
       "      <td>3733</td>\n",
       "    </tr>\n",
       "  </tbody>\n",
       "</table>\n",
       "</div>"
      ],
      "text/plain": [
       "       StateName  Count\n",
       "0      Telangana  17258\n",
       "1      Rajasthan   8003\n",
       "2  Uttar Pradesh   7777\n",
       "3        Gujarat   6507\n",
       "4    West Bengal   6064\n",
       "5    Uttarakhand   4587\n",
       "6   Chhattisgarh   3733"
      ]
     },
     "execution_count": 16,
     "metadata": {},
     "output_type": "execute_result"
    }
   ],
   "source": [
    "geo_pd"
   ]
  },
  {
   "cell_type": "markdown",
   "metadata": {},
   "source": [
    "Initialization of map starting point for view and amount of zoom around the point"
   ]
  },
  {
   "cell_type": "code",
   "execution_count": 17,
   "metadata": {},
   "outputs": [],
   "source": [
    "map = folium.Map(location=[21, 78], zoom_start=4.3, tiles ='Stamen Terrain')"
   ]
  },
  {
   "cell_type": "markdown",
   "metadata": {},
   "source": [
    "Mapping data onto map by state name matching featur feature.id in geojson data"
   ]
  },
  {
   "cell_type": "code",
   "execution_count": 18,
   "metadata": {},
   "outputs": [
    {
     "name": "stderr",
     "output_type": "stream",
     "text": [
      "C:\\Users\\A Busy Jet\\Anaconda3\\lib\\site-packages\\folium\\folium.py:415: FutureWarning: The choropleth  method has been deprecated. Instead use the new Choropleth class, which has the same arguments. See the example notebook 'GeoJSON_and_choropleth' for how to do this.\n",
      "  FutureWarning\n"
     ]
    }
   ],
   "source": [
    "map.choropleth(geo_data=country_geo, data=geo_pd,\n",
    "         columns=['StateName', 'Count'],\n",
    "         key_on='feature.id',\n",
    "         fill_color='YlOrRd', fill_opacity=0.7, line_opacity=0.2,\n",
    "         legend_name='Queries Count')"
   ]
  },
  {
   "cell_type": "code",
   "execution_count": 19,
   "metadata": {},
   "outputs": [],
   "source": [
    "coor = pd.read_csv('./../Data/india-states-lalo.csv')"
   ]
  },
  {
   "cell_type": "code",
   "execution_count": 20,
   "metadata": {},
   "outputs": [
    {
     "data": {
      "text/html": [
       "<div>\n",
       "<style scoped>\n",
       "    .dataframe tbody tr th:only-of-type {\n",
       "        vertical-align: middle;\n",
       "    }\n",
       "\n",
       "    .dataframe tbody tr th {\n",
       "        vertical-align: top;\n",
       "    }\n",
       "\n",
       "    .dataframe thead th {\n",
       "        text-align: right;\n",
       "    }\n",
       "</style>\n",
       "<table border=\"1\" class=\"dataframe\">\n",
       "  <thead>\n",
       "    <tr style=\"text-align: right;\">\n",
       "      <th></th>\n",
       "      <th>Place Name</th>\n",
       "      <th>Latitude</th>\n",
       "      <th>Longitude</th>\n",
       "      <th>Count</th>\n",
       "    </tr>\n",
       "  </thead>\n",
       "  <tbody>\n",
       "    <tr>\n",
       "      <td>0</td>\n",
       "      <td>Telangana</td>\n",
       "      <td>17.123184</td>\n",
       "      <td>79.208824</td>\n",
       "      <td>17258</td>\n",
       "    </tr>\n",
       "    <tr>\n",
       "      <td>1</td>\n",
       "      <td>Chhattisgarh</td>\n",
       "      <td>21.295132</td>\n",
       "      <td>81.828232</td>\n",
       "      <td>8003</td>\n",
       "    </tr>\n",
       "    <tr>\n",
       "      <td>2</td>\n",
       "      <td>Uttar Pradesh</td>\n",
       "      <td>28.207609</td>\n",
       "      <td>79.826660</td>\n",
       "      <td>7777</td>\n",
       "    </tr>\n",
       "    <tr>\n",
       "      <td>3</td>\n",
       "      <td>West Bengal</td>\n",
       "      <td>22.978624</td>\n",
       "      <td>87.747803</td>\n",
       "      <td>6507</td>\n",
       "    </tr>\n",
       "    <tr>\n",
       "      <td>4</td>\n",
       "      <td>Gujarat</td>\n",
       "      <td>22.309425</td>\n",
       "      <td>72.136230</td>\n",
       "      <td>6064</td>\n",
       "    </tr>\n",
       "    <tr>\n",
       "      <td>5</td>\n",
       "      <td>Rajasthan</td>\n",
       "      <td>27.391277</td>\n",
       "      <td>73.432617</td>\n",
       "      <td>4587</td>\n",
       "    </tr>\n",
       "    <tr>\n",
       "      <td>6</td>\n",
       "      <td>Uttarakhand</td>\n",
       "      <td>30.066800</td>\n",
       "      <td>79.019300</td>\n",
       "      <td>3733</td>\n",
       "    </tr>\n",
       "  </tbody>\n",
       "</table>\n",
       "</div>"
      ],
      "text/plain": [
       "      Place Name   Latitude  Longitude  Count\n",
       "0      Telangana  17.123184  79.208824  17258\n",
       "1   Chhattisgarh  21.295132  81.828232   8003\n",
       "2  Uttar Pradesh  28.207609  79.826660   7777\n",
       "3    West Bengal  22.978624  87.747803   6507\n",
       "4        Gujarat  22.309425  72.136230   6064\n",
       "5      Rajasthan  27.391277  73.432617   4587\n",
       "6    Uttarakhand  30.066800  79.019300   3733"
      ]
     },
     "execution_count": 20,
     "metadata": {},
     "output_type": "execute_result"
    }
   ],
   "source": [
    "coor"
   ]
  },
  {
   "cell_type": "code",
   "execution_count": 21,
   "metadata": {},
   "outputs": [],
   "source": [
    "for i in range(0,len(coor)):\n",
    "    location=[coor.iloc[i]['Latitude'], coor.iloc[i]['Longitude']]\n",
    "    popup = ('District: ' + str(coor.iloc[i]['Place Name']) + \n",
    "             ';  ' + 'Queries Count: ' + str(coor.iloc[i]['Count']))\n",
    "    marker = folium.Marker(location = location, popup = popup)\n",
    "    marker.add_to(map)"
   ]
  },
  {
   "cell_type": "markdown",
   "metadata": {},
   "source": [
    "Resultant map is saved as an html file in the specified location. Hover and click on the marker for more details."
   ]
  },
  {
   "cell_type": "code",
   "execution_count": 22,
   "metadata": {},
   "outputs": [
    {
     "name": "stderr",
     "output_type": "stream",
     "text": [
      "C:\\Users\\A Busy Jet\\Anaconda3\\lib\\site-packages\\IPython\\core\\display.py:694: UserWarning: Consider using IPython.display.IFrame instead\n",
      "  warnings.warn(\"Consider using IPython.display.IFrame instead\")\n"
     ]
    },
    {
     "data": {
      "text/html": [
       "<iframe src=./../Plots/plot_data.html width=700 height=450></iframe>"
      ],
      "text/plain": [
       "<IPython.core.display.HTML object>"
      ]
     },
     "execution_count": 22,
     "metadata": {},
     "output_type": "execute_result"
    }
   ],
   "source": [
    "# Create Folium plot\n",
    "map.save('./../Plots/plot_data.html')# Import the Folium interactive html file\n",
    "from IPython.display import HTML\n",
    "HTML('<iframe src=./../Plots/plot_data.html width=700 height=450></iframe>')"
   ]
  },
  {
   "cell_type": "code",
   "execution_count": null,
   "metadata": {},
   "outputs": [],
   "source": []
  }
 ],
 "metadata": {
  "kernelspec": {
   "display_name": "Python 3",
   "language": "python",
   "name": "python3"
  },
  "language_info": {
   "codemirror_mode": {
    "name": "ipython",
    "version": 3
   },
   "file_extension": ".py",
   "mimetype": "text/x-python",
   "name": "python",
   "nbconvert_exporter": "python",
   "pygments_lexer": "ipython3",
   "version": "3.7.4"
  }
 },
 "nbformat": 4,
 "nbformat_minor": 2
}
